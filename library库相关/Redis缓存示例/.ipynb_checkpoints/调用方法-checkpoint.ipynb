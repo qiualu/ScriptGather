{
 "cells": [
  {
   "cell_type": "code",
   "execution_count": 6,
   "id": "483f8db5",
   "metadata": {},
   "outputs": [],
   "source": [
    "import redis"
   ]
  },
  {
   "cell_type": "code",
   "execution_count": 7,
   "id": "6ac4cc40",
   "metadata": {},
   "outputs": [],
   "source": [
    "r = redis.StrictRedis(host='localhost', port=6379, db=0)"
   ]
  },
  {
   "cell_type": "code",
   "execution_count": 8,
   "id": "124d4eb9",
   "metadata": {},
   "outputs": [
    {
     "data": {
      "text/plain": [
       "True"
      ]
     },
     "execution_count": 8,
     "metadata": {},
     "output_type": "execute_result"
    }
   ],
   "source": [
    "r.set('mykey', 'bar')"
   ]
  },
  {
   "cell_type": "code",
   "execution_count": 10,
   "id": "09444ff7",
   "metadata": {},
   "outputs": [
    {
     "data": {
      "text/plain": [
       "b'bar'"
      ]
     },
     "execution_count": 10,
     "metadata": {},
     "output_type": "execute_result"
    }
   ],
   "source": [
    "r.get('mykey')"
   ]
  },
  {
   "cell_type": "code",
   "execution_count": 11,
   "id": "ad9c1c45",
   "metadata": {},
   "outputs": [],
   "source": [
    "def getall():# 获取所有键\n",
    "    keys = r.keys()\n",
    "    # 遍历键并获取值\n",
    "    for key in keys:\n",
    "        value = r.get(key)\n",
    "        print(f'{key.decode()}: {value.decode()}')\n",
    "def deletall():\n",
    "    keys = r.keys()\n",
    "    # 遍历键并获取值\n",
    "    for key in keys:\n",
    "        value = r.get(key)\n",
    "        r.delete(key)"
   ]
  },
  {
   "cell_type": "code",
   "execution_count": 12,
   "id": "1d491c18",
   "metadata": {},
   "outputs": [
    {
     "name": "stdout",
     "output_type": "stream",
     "text": [
      "112: Key down: 86\n",
      "104: Key down: 162\n",
      "113: Key down: 71\n",
      "117: Key down: 76\n",
      "125: Key down: 8\n",
      "108: Key down: 70\n",
      "115: Key down: 84\n",
      "129: Key down: 67\n",
      "110: Key down: 32\n",
      "100: Key down: 163\n",
      "132: Key down: 160\n",
      "102: Key down: 162\n",
      "103: Key down: 67\n",
      "130: Key down: 162\n",
      "114: Key down: 69\n",
      "101: Key down: 191\n",
      "105: Key down: 67\n",
      "133: Key down: 13\n",
      "122: Key down: 160\n",
      "127: Key down: 13\n",
      "116: Key down: 65\n",
      "131: Key down: 86\n",
      "123: Key down: 186\n",
      "106: Key down: 68\n",
      "120: Key down: 57\n",
      "107: Key down: 69\n",
      "128: Key down: 162\n",
      "109: Key down: 160\n",
      "124: Key down: 9\n",
      "126: Key down: 160\n",
      "119: Key down: 160\n",
      "118: Key down: 76\n",
      "121: Key down: 48\n",
      "111: Key down: 162\n"
     ]
    }
   ],
   "source": [
    "getall()"
   ]
  },
  {
   "cell_type": "code",
   "execution_count": null,
   "id": "407ead66",
   "metadata": {},
   "outputs": [],
   "source": []
  }
 ],
 "metadata": {
  "kernelspec": {
   "display_name": "Python 3 (ipykernel)",
   "language": "python",
   "name": "python3"
  },
  "language_info": {
   "codemirror_mode": {
    "name": "ipython",
    "version": 3
   },
   "file_extension": ".py",
   "mimetype": "text/x-python",
   "name": "python",
   "nbconvert_exporter": "python",
   "pygments_lexer": "ipython3",
   "version": "3.10.10"
  }
 },
 "nbformat": 4,
 "nbformat_minor": 5
}
