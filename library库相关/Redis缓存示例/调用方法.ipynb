{
 "cells": [
  {
   "cell_type": "code",
   "execution_count": 6,
   "id": "a7e4ec80",
   "metadata": {},
   "outputs": [],
   "source": [
    "import redis"
   ]
  },
  {
   "cell_type": "code",
   "execution_count": 7,
   "id": "040dd148",
   "metadata": {},
   "outputs": [],
   "source": [
    "r = redis.StrictRedis(host='localhost', port=6379, db=0)"
   ]
  },
  {
   "cell_type": "code",
   "execution_count": 8,
   "id": "e20d2456",
   "metadata": {},
   "outputs": [
    {
     "data": {
      "text/plain": [
       "True"
      ]
     },
     "execution_count": 8,
     "metadata": {},
     "output_type": "execute_result"
    }
   ],
   "source": [
    "r.set('mykey', 'bar')"
   ]
  },
  {
   "cell_type": "code",
   "execution_count": 10,
   "id": "5d70ebf3",
   "metadata": {},
   "outputs": [
    {
     "data": {
      "text/plain": [
       "b'bar'"
      ]
     },
     "execution_count": 10,
     "metadata": {},
     "output_type": "execute_result"
    }
   ],
   "source": [
    "r.get('mykey')"
   ]
  },
  {
   "cell_type": "code",
   "execution_count": 14,
   "id": "87a22948",
   "metadata": {},
   "outputs": [],
   "source": [
    "def getall():# 获取所有键\n",
    "    keys = r.keys()\n",
    "    # 遍历键并获取值\n",
    "    for key in keys:\n",
    "        value = r.get(key)\n",
    "        print(f'{key.decode()}: {value.decode()}')\n",
    "def deletall():\n",
    "    keys = r.keys()\n",
    "    # 遍历键并获取值\n",
    "    for key in keys:\n",
    "        value = r.get(key)\n",
    "        r.delete(key)"
   ]
  },
  {
   "cell_type": "code",
   "execution_count": 109,
   "id": "ea63e8f1",
   "metadata": {},
   "outputs": [],
   "source": [
    "deletall()\n",
    "getall()"
   ]
  },
  {
   "cell_type": "code",
   "execution_count": 121,
   "id": "95b04dfd",
   "metadata": {},
   "outputs": [
    {
     "name": "stdout",
     "output_type": "stream",
     "text": [
      "name: Alice\n",
      "code: 123456\n"
     ]
    }
   ],
   "source": [
    "# r.mset({'age': 20, 'gender': 'female'})\n",
    "getall()"
   ]
  },
  {
   "cell_type": "code",
   "execution_count": 118,
   "id": "2cd3b696",
   "metadata": {},
   "outputs": [
    {
     "name": "stdout",
     "output_type": "stream",
     "text": [
      "Alice\n",
      "123456\n"
     ]
    }
   ],
   "source": [
    "#String #存储：\n",
    " \n",
    "r.set('name', 'Alice')        # 存储字符串\n",
    "r.setex('code', 60, '123456') # 存储字符串并设置过期时间\n",
    "#获取：\n",
    "\n",
    "name = r.get('name').decode() # 获取字符串，需要进行解码\n",
    "print(name) # 输出 Alice\n",
    "\n",
    "code = r.get('code').decode()\n",
    "print(code) # 输出 123456\n",
    "#删除：\n",
    "\n",
    "#r.delete('name', 'code') # 删除键值对"
   ]
  },
  {
   "cell_type": "code",
   "execution_count": 125,
   "id": "e3c1fef7",
   "metadata": {},
   "outputs": [
    {
     "name": "stdout",
     "output_type": "stream",
     "text": [
      "['blue', 'green', 'red', 'yellow', 'purple']\n",
      "['blue', 'green', 'red', 'yellow', 'purple']\n"
     ]
    },
    {
     "data": {
      "text/plain": [
       "5"
      ]
     },
     "execution_count": 125,
     "metadata": {},
     "output_type": "execute_result"
    }
   ],
   "source": [
    "client = r\n",
    "client = redis.Redis(host='localhost', port=6379, db=0)\n",
    "client.lpush('colors', 'red', 'green', 'blue') # 从左端插入元素\n",
    "client.rpush('colors', 'yellow', 'purple')     # 从右端插入元素\n",
    "#获取：\n",
    "\n",
    "length = client.llen('colors')   # 获取列表长度\n",
    "\n",
    "colors1 = [client.lindex('colors', i).decode() \n",
    "          for i in range(length)] # 通过索引获取元素，需要进行解码\n",
    "\n",
    "colors2 = [client.lpop('colors').decode() \n",
    "          for _ in range(length)] # 从左端弹出元素，需要进行解码\n",
    "\n",
    "print(colors1) # 输出 ['blue', 'green', 'red', 'yellow', 'purple']\n",
    "print(colors2) # 输出 ['blue', 'green', 'red', 'yellow', 'purple']，相当于把列表清空\n",
    "#删除：\n",
    "\n",
    "client.delete('colors')"
   ]
  },
  {
   "cell_type": "code",
   "execution_count": 65,
   "id": "57b369e8",
   "metadata": {},
   "outputs": [
    {
     "name": "stdout",
     "output_type": "stream",
     "text": [
      "0\n"
     ]
    }
   ],
   "source": [
    "length = client.llen('colors')   # 获取列表长度\n",
    "print(length)"
   ]
  },
  {
   "cell_type": "code",
   "execution_count": 66,
   "id": "9abccfd8",
   "metadata": {},
   "outputs": [
    {
     "data": {
      "text/plain": [
       "3"
      ]
     },
     "execution_count": 66,
     "metadata": {},
     "output_type": "execute_result"
    }
   ],
   "source": [
    "client.lpush('colors', 'red', 'green', 'blue')"
   ]
  },
  {
   "cell_type": "code",
   "execution_count": 67,
   "id": "fa1b30cb",
   "metadata": {},
   "outputs": [
    {
     "data": {
      "text/plain": [
       "'blue'"
      ]
     },
     "execution_count": 67,
     "metadata": {},
     "output_type": "execute_result"
    }
   ],
   "source": [
    "client.lindex('colors', 0).decode() "
   ]
  },
  {
   "cell_type": "code",
   "execution_count": 104,
   "id": "4b3ec9dd",
   "metadata": {},
   "outputs": [
    {
     "name": "stdout",
     "output_type": "stream",
     "text": [
      "Redis Tutorial\n",
      "{b'title': b'Redis Tutorial', b'author': b'Alice', b'date': b'2022-10-01'}\n"
     ]
    },
    {
     "name": "stderr",
     "output_type": "stream",
     "text": [
      "C:\\Users\\yl\\AppData\\Local\\Temp\\ipykernel_19052\\2305989036.py:7: DeprecationWarning: Redis.hmset() is deprecated. Use Redis.hset() instead.\n",
      "  client.hmset('article', {'author': 'Alice','date': '2022-10-01'})  # 存储多个字段\n"
     ]
    },
    {
     "data": {
      "text/plain": [
       "3"
      ]
     },
     "execution_count": 104,
     "metadata": {},
     "output_type": "execute_result"
    }
   ],
   "source": [
    "#Hash 存储：\n",
    "\n",
    "#import redis \n",
    "\n",
    "#client = redis.Redis(host='localhost', port=6379, db=0)\n",
    "client.hset('article', 'title', 'Redis Tutorial') # 存储单个字段\n",
    "client.hmset('article', {'author': 'Alice','date': '2022-10-01'})  # 存储多个字段\n",
    "#获取：\n",
    "\n",
    "title = client.hget('article', 'title').decode() # 获取单个字段的值，需要解码\n",
    "details = client.hgetall('article')              # 获取所有字段和值，返回字典类型\n",
    "\n",
    "print(title)   # 输出 Redis Tutorial\n",
    "print(details) # 输出 {b'title': b'Redis Tutorial', \n",
    "               #      b'author': b'Alice', \n",
    "               #      b'date': b'2022-10-01'}\n",
    "#删除：\n",
    "\n",
    "client.hdel('article', 'title', 'author', 'date') # 删除指定字段"
   ]
  },
  {
   "cell_type": "code",
   "execution_count": 69,
   "id": "7ff1c514",
   "metadata": {},
   "outputs": [
    {
     "data": {
      "text/plain": [
       "0"
      ]
     },
     "execution_count": 69,
     "metadata": {},
     "output_type": "execute_result"
    }
   ],
   "source": [
    "client.hset('article', 'title', 'Redis Tutorial') # 存储单个字段"
   ]
  },
  {
   "cell_type": "code",
   "execution_count": 70,
   "id": "42c5bad4",
   "metadata": {},
   "outputs": [
    {
     "name": "stdout",
     "output_type": "stream",
     "text": [
      "Redis Tutorial\n"
     ]
    }
   ],
   "source": [
    "title = client.hget('article', 'title').decode() # 获取单个字段的值，需要解码\n",
    "print(title)"
   ]
  },
  {
   "cell_type": "code",
   "execution_count": 71,
   "id": "0bfef0a7",
   "metadata": {},
   "outputs": [
    {
     "name": "stdout",
     "output_type": "stream",
     "text": [
      "{b'title': b'Redis Tutorial', b'author': b'Alice', b'date': b'2022-10-01'}\n"
     ]
    }
   ],
   "source": [
    "details = client.hgetall('article')              # 获取所有字段和值，返回字典类型\n",
    "print(details)"
   ]
  },
  {
   "cell_type": "code",
   "execution_count": 72,
   "id": "92a22075",
   "metadata": {},
   "outputs": [
    {
     "name": "stdout",
     "output_type": "stream",
     "text": [
      "Alice\n"
     ]
    }
   ],
   "source": [
    "title = client.hget('article', 'author').decode() # 获取单个字段的值，需要解码\n",
    "print(title)"
   ]
  },
  {
   "cell_type": "code",
   "execution_count": 123,
   "id": "6a75c097",
   "metadata": {},
   "outputs": [
    {
     "name": "stdout",
     "output_type": "stream",
     "text": [
      "length 3\n",
      "fruits1 ['orange', 'banana', 'apple']\n",
      "fruit b'orange'\n",
      "fruit b'apple'\n",
      "fruit b'banana'\n",
      "fruit None\n",
      "['orange', 'banana', 'apple']\n",
      "['orange', 'apple', 'banana']\n"
     ]
    }
   ],
   "source": [
    "# Set 存储： import redis\n",
    "\n",
    "#client = redis.Redis(host='localhost', port=6379, db=0)\n",
    "client.sadd('fruit', 'apple', 'banana', 'orange') # 添加元素到集合\n",
    "#获取：\n",
    "\n",
    "length = client.scard('fruit')       # 获取集合中元素的数量\n",
    "print(\"length\" ,length)\n",
    "fruits1 = [fruit.decode() for fruit in client.smembers('fruit')] # 获取集合中所有元素，需要解码\n",
    "print(\"fruits1\" ,fruits1)\n",
    "fruits2 = []\n",
    "while True:\n",
    "    fruit = client.spop('fruit') # 拿出最后一个并删除\n",
    "    print(\"fruit\" ,fruit)\n",
    "    if not fruit:\n",
    "        break\n",
    "    fruits2.append(fruit.decode())  # 弹出并删除集合中的元素，需要解码\n",
    "\n",
    "print(fruits1) # 输出 ['banana', 'orange', 'apple']\n",
    "print(fruits2) # 输出 ['apple', 'banana', 'orange']，相当于把集合清空\n",
    "# 删除：\n",
    "client.delete('fruit')"
   ]
  },
  {
   "cell_type": "code",
   "execution_count": 61,
   "id": "dd5d722d",
   "metadata": {},
   "outputs": [
    {
     "name": "stdout",
     "output_type": "stream",
     "text": [
      "length 0\n"
     ]
    }
   ],
   "source": [
    "length = client.scard('fruit')       # 获取集合中元素的数量\n",
    "print(\"length\" ,length)"
   ]
  },
  {
   "cell_type": "code",
   "execution_count": 124,
   "id": "af5cc583",
   "metadata": {},
   "outputs": [
    {
     "data": {
      "text/plain": [
       "3"
      ]
     },
     "execution_count": 124,
     "metadata": {},
     "output_type": "execute_result"
    }
   ],
   "source": [
    "client.zadd('scores', {'Alice': 95, 'Bob': 85, 'Charlie': 75}) # 添加元素和分数到有序集合"
   ]
  },
  {
   "cell_type": "code",
   "execution_count": 85,
   "id": "b6440d1f",
   "metadata": {},
   "outputs": [],
   "source": [
    "length = client.zcard('scores')       # 获取有序集合中元素的数量"
   ]
  },
  {
   "cell_type": "code",
   "execution_count": 86,
   "id": "ef92fed6",
   "metadata": {},
   "outputs": [
    {
     "data": {
      "text/plain": [
       "3"
      ]
     },
     "execution_count": 86,
     "metadata": {},
     "output_type": "execute_result"
    }
   ],
   "source": [
    "length"
   ]
  },
  {
   "cell_type": "code",
   "execution_count": 87,
   "id": "d57c35fe",
   "metadata": {},
   "outputs": [
    {
     "data": {
      "text/plain": [
       "[('Charlie', 75.0), ('Bob', 85.0), ('Alice', 95.0)]"
      ]
     },
     "execution_count": 87,
     "metadata": {},
     "output_type": "execute_result"
    }
   ],
   "source": [
    "scores1 = [(name.decode(), score) for name, score in client.zrange('scores', 0, -1, withscores=True)] # 获取有序集合中所有元素和分数，需要解码\n",
    "scores1"
   ]
  },
  {
   "cell_type": "code",
   "execution_count": 96,
   "id": "4195cfc0",
   "metadata": {},
   "outputs": [
    {
     "name": "stdout",
     "output_type": "stream",
     "text": [
      "[b'Bob', b'Alice']\n"
     ]
    }
   ],
   "source": [
    "# result = client.zpopmin('scores', 1) # 弹出并删除有序集合中分数最小的元素\n",
    "print(client.zrange('scores', 1, 3))  # 需要解码"
   ]
  },
  {
   "cell_type": "code",
   "execution_count": 98,
   "id": "0de0003e",
   "metadata": {},
   "outputs": [
    {
     "name": "stdout",
     "output_type": "stream",
     "text": [
      "[(b'Bob', 85.0), (b'Alice', 95.0)]\n"
     ]
    }
   ],
   "source": [
    "print(client.zrange('scores', 1, 3, withscores=True))  # 需要解码"
   ]
  },
  {
   "cell_type": "code",
   "execution_count": 106,
   "id": "d3c892a2",
   "metadata": {},
   "outputs": [
    {
     "data": {
      "text/plain": [
       "0"
      ]
     },
     "execution_count": 106,
     "metadata": {},
     "output_type": "execute_result"
    }
   ],
   "source": [
    "client.delete('scores')"
   ]
  },
  {
   "cell_type": "code",
   "execution_count": 152,
   "id": "8ffe92fe",
   "metadata": {},
   "outputs": [
    {
     "name": "stdout",
     "output_type": "stream",
     "text": [
      "['keyUp293:Key up: vkCode=13, scanCode=28, flags=128, time=218578765, utime=1681140221095', 'keyUp294:Key up: vkCode=160, scanCode=42, flags=128, time=218578859, utime=1681140221192', 'keyDown295:Key down: vkCode=160, scanCode=42, flags=0, time=218580171, utime=1681140222511', 'keyDown296:Key down: vkCode=13, scanCode=28, flags=0, time=218580484, utime=1681140222824']\n"
     ]
    }
   ],
   "source": [
    "length = client.llen('HookKey')   # 获取列表长度\n",
    "\n",
    "colors1 = [client.lindex('HookKey', i).decode() \n",
    "          for i in range(length)] # 通过索引获取元素，需要进行解码\n",
    "print(colors1)\n"
   ]
  },
  {
   "cell_type": "code",
   "execution_count": 158,
   "id": "2bfa3299",
   "metadata": {},
   "outputs": [
    {
     "data": {
      "text/plain": [
       "1"
      ]
     },
     "execution_count": 158,
     "metadata": {},
     "output_type": "execute_result"
    }
   ],
   "source": [
    "client.delete('HookKey')\n",
    "client.delete('HookMouse')"
   ]
  },
  {
   "cell_type": "code",
   "execution_count": 160,
   "id": "dd8d7158",
   "metadata": {},
   "outputs": [
    {
     "name": "stdout",
     "output_type": "stream",
     "text": [
      "8 5\n"
     ]
    }
   ],
   "source": [
    "length1 = client.llen('HookKey')   # 获取列表长度\n",
    "length2 = client.llen('HookMouse')   # 获取列表长度\n",
    "print(length1,length2)"
   ]
  },
  {
   "cell_type": "code",
   "execution_count": null,
   "id": "552d3b7d",
   "metadata": {},
   "outputs": [],
   "source": []
  },
  {
   "cell_type": "code",
   "execution_count": null,
   "id": "e5bec3ef",
   "metadata": {},
   "outputs": [],
   "source": []
  }
 ],
 "metadata": {
  "kernelspec": {
   "display_name": "Python 3 (ipykernel)",
   "language": "python",
   "name": "python3"
  },
  "language_info": {
   "codemirror_mode": {
    "name": "ipython",
    "version": 3
   },
   "file_extension": ".py",
   "mimetype": "text/x-python",
   "name": "python",
   "nbconvert_exporter": "python",
   "pygments_lexer": "ipython3",
   "version": "3.10.10"
  }
 },
 "nbformat": 4,
 "nbformat_minor": 5
}
