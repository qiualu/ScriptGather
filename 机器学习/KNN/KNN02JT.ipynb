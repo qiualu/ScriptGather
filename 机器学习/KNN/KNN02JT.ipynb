{
 "cells": [
  {
   "cell_type": "code",
   "execution_count": 4,
   "metadata": {},
   "outputs": [],
   "source": [
    "import  csv\n",
    "from sklearn import neighbors\n",
    "from sklearn.neighbors import KNeighborsClassifier\n",
    "import numpy as np\n",
    "from sklearn.model_selection import train_test_split\n",
    "import matplotlib.pyplot as plt\n",
    "%matplotlib inline"
   ]
  },
  {
   "cell_type": "code",
   "execution_count": 80,
   "metadata": {},
   "outputs": [],
   "source": [
    "data = []\n",
    "target = []\n",
    "# 读取数据\n",
    "def read_icon(index):\n",
    "    for i in range(0,400): # 0 (1).png\n",
    "        #print(\"./datanum3/%d/%d.png\"%(index,i))\n",
    "        digits = plt.imread(\"./datanum3/%d/%d.png\"%(index,i))\n",
    "        data.append(digits)\n",
    "        target.append(index)"
   ]
  },
  {
   "cell_type": "code",
   "execution_count": 81,
   "metadata": {},
   "outputs": [],
   "source": [
    "# 答案 = [0,1,2,3,4,5,6,7,8,9,10,11]\n",
    "data = []\n",
    "for i in range(11):\n",
    "    read_icon(i)"
   ]
  },
  {
   "cell_type": "code",
   "execution_count": 9,
   "metadata": {},
   "outputs": [],
   "source": [
    "digits = plt.imread(\"./datanum/0 (1).png\")  # digits"
   ]
  },
  {
   "cell_type": "code",
   "execution_count": 105,
   "metadata": {},
   "outputs": [
    {
     "data": {
      "text/plain": [
       "<matplotlib.image.AxesImage at 0x242fa048748>"
      ]
     },
     "execution_count": 105,
     "metadata": {},
     "output_type": "execute_result"
    },
    {
     "data": {
      "image/png": "[encoded data removed]",
      "text/plain": [
       "<Figure size 432x288 with 1 Axes>"
      ]
     },
     "metadata": {
      "needs_background": "light"
     },
     "output_type": "display_data"
    }
   ],
   "source": [
    "plt.imshow(digits,cmap = 'gray')"
   ]
  },
  {
   "cell_type": "code",
   "execution_count": 27,
   "metadata": {},
   "outputs": [
    {
     "data": {
      "text/plain": [
       "numpy.ndarray"
      ]
     },
     "execution_count": 27,
     "metadata": {},
     "output_type": "execute_result"
    }
   ],
   "source": [
    "type(data[0])"
   ]
  },
  {
   "cell_type": "code",
   "execution_count": 83,
   "metadata": {},
   "outputs": [
    {
     "name": "stdout",
     "output_type": "stream",
     "text": [
      "(11, 7)\n",
      "(11, 7)\n",
      "(11, 7)\n",
      "(11, 7)\n",
      "(11, 7)\n",
      "(11, 7)\n",
      "(11, 7)\n",
      "(11, 7)\n",
      "(11, 7)\n",
      "(11, 7)\n",
      "(11, 7)\n",
      "(11, 7)\n",
      "(11, 7)\n",
      "(11, 7)\n",
      "(11, 7)\n",
      "(11, 7)\n",
      "(11, 7)\n",
      "(11, 7)\n",
      "(11, 7)\n",
      "(11, 7)\n",
      "(11, 7)\n",
      "(11, 7)\n",
      "(11, 7)\n",
      "(11, 7)\n",
      "(11, 7)\n",
      "(11, 7)\n",
      "(11, 7)\n",
      "(11, 7)\n",
      "(11, 7)\n",
      "(11, 7)\n",
      "(11, 7)\n",
      "(11, 7)\n",
      "(11, 7)\n",
      "(11, 7)\n",
      "(11, 7)\n",
      "(11, 7)\n",
      "(11, 7)\n",
      "(11, 7)\n",
      "(11, 7)\n",
      "(11, 7)\n",
      "(11, 7)\n",
      "(11, 7)\n",
      "(11, 7)\n",
      "(11, 7)\n",
      "(11, 7)\n",
      "(11, 7)\n",
      "(11, 7)\n",
      "(11, 7)\n",
      "(11, 7)\n",
      "(11, 7)\n",
      "(11, 7)\n",
      "(11, 7)\n",
      "(11, 7)\n",
      "(11, 7)\n",
      "(11, 7)\n",
      "(11, 7)\n",
      "(11, 7)\n",
      "(11, 7)\n",
      "(11, 7)\n",
      "(11, 7)\n",
      "(11, 7)\n",
      "(11, 7)\n",
      "(11, 7)\n",
      "(11, 7)\n",
      "(11, 7)\n",
      "(11, 7)\n",
      "(11, 7)\n",
      "(11, 7)\n",
      "(11, 7)\n",
      "(11, 7)\n",
      "(11, 7)\n",
      "(11, 7)\n",
      "(11, 7)\n",
      "(11, 7)\n",
      "(11, 7)\n",
      "(11, 7)\n",
      "(11, 7)\n",
      "(11, 7)\n",
      "(11, 7)\n",
      "(11, 7)\n",
      "(11, 7)\n",
      "(11, 7)\n",
      "(11, 7)\n",
      "(11, 7)\n",
      "(11, 7)\n",
      "(11, 7)\n",
      "(11, 7)\n",
      "(11, 7)\n",
      "(11, 7)\n",
      "(11, 7)\n",
      "(11, 7)\n",
      "(11, 7)\n",
      "(11, 7)\n",
      "(11, 7)\n",
      "(11, 7)\n",
      "(11, 7)\n",
      "(11, 7)\n",
      "(11, 7)\n",
      "(11, 7)\n",
      "(11, 7)\n",
      "(11, 7)\n",
      "(11, 7)\n",
      "(11, 7)\n",
      "(11, 7)\n",
      "(11, 7)\n",
      "(11, 7)\n",
      "(11, 7)\n",
      "(11, 7)\n",
      "(11, 7)\n",
      "(11, 7)\n",
      "(11, 7)\n",
      "(11, 7)\n",
      "(11, 7)\n",
      "(11, 7)\n",
      "(11, 7)\n",
      "(11, 7)\n",
      "(11, 7)\n",
      "(11, 7)\n",
      "(11, 7)\n",
      "(11, 7)\n",
      "(11, 7)\n",
      "(11, 7)\n",
      "(11, 7)\n",
      "(11, 7)\n",
      "(11, 7)\n",
      "(11, 7)\n",
      "(11, 7)\n",
      "(11, 7)\n",
      "(11, 7)\n",
      "(11, 7)\n",
      "(11, 7)\n",
      "(11, 7)\n",
      "(11, 7)\n",
      "(11, 7)\n",
      "(11, 7)\n",
      "(11, 7)\n",
      "(11, 7)\n",
      "(11, 7)\n",
      "(11, 7)\n",
      "(11, 7)\n",
      "(11, 7)\n",
      "(11, 7)\n",
      "(11, 7)\n",
      "(11, 7)\n",
      "(11, 7)\n",
      "(11, 7)\n",
      "(11, 7)\n",
      "(11, 7)\n",
      "(11, 7)\n",
      "(11, 7)\n",
      "(11, 7)\n",
      "(11, 7)\n",
      "(11, 7)\n",
      "(11, 7)\n",
      "(11, 7)\n",
      "(11, 7)\n",
      "(11, 7)\n",
      "(11, 7)\n",
      "(11, 7)\n",
      "(11, 7)\n",
      "(11, 7)\n",
      "(11, 7)\n",
      "(11, 7)\n",
      "(11, 7)\n",
      "(11, 7)\n",
      "(11, 7)\n",
      "(11, 7)\n",
      "(11, 7)\n",
      "(11, 7)\n",
      "(11, 7)\n",
      "(11, 7)\n",
      "(11, 7)\n",
      "(11, 7)\n",
      "(11, 7)\n",
      "(11, 7)\n",
      "(11, 7)\n",
      "(11, 7)\n",
      "(11, 7)\n",
      "(11, 7)\n",
      "(11, 7)\n",
      "(11, 7)\n",
      "(11, 7)\n",
      "(11, 7)\n",
      "(11, 7)\n",
      "(11, 7)\n",
      "(11, 7)\n",
      "(11, 7)\n",
      "(11, 7)\n",
      "(11, 7)\n",
      "(11, 7)\n",
      "(11, 7)\n",
      "(11, 7)\n",
      "(11, 7)\n",
      "(11, 7)\n",
      "(11, 7)\n",
      "(11, 7)\n",
      "(11, 7)\n",
      "(11, 7)\n",
      "(11, 7)\n",
      "(11, 7)\n",
      "(11, 7)\n",
      "(11, 7)\n",
      "(11, 7)\n",
      "(11, 7)\n",
      "(11, 7)\n",
      "(11, 7)\n",
      "(11, 7)\n",
      "(11, 7)\n",
      "(11, 7)\n",
      "(11, 7)\n",
      "(11, 7)\n",
      "(11, 7)\n",
      "(11, 7)\n",
      "(11, 7)\n",
      "(11, 7)\n",
      "(11, 7)\n",
      "(11, 7)\n",
      "(11, 7)\n",
      "(11, 7)\n",
      "(11, 7)\n",
      "(11, 7)\n",
      "(11, 7)\n",
      "(11, 7)\n",
      "(11, 7)\n",
      "(11, 7)\n",
      "(11, 7)\n",
      "(11, 7)\n",
      "(11, 7)\n",
      "(11, 7)\n",
      "(11, 7)\n",
      "(11, 7)\n",
      "(11, 7)\n",
      "(11, 7)\n",
      "(11, 7)\n",
      "(11, 7)\n",
      "(11, 7)\n",
      "(11, 7)\n",
      "(11, 7)\n",
      "(11, 7)\n",
      "(11, 7)\n",
      "(11, 7)\n",
      "(11, 7)\n",
      "(11, 7)\n",
      "(11, 7)\n",
      "(11, 7)\n",
      "(11, 7)\n",
      "(11, 7)\n",
      "(11, 7)\n",
      "(11, 7)\n",
      "(11, 7)\n",
      "(11, 7)\n",
      "(11, 7)\n",
      "(11, 7)\n",
      "(11, 7)\n",
      "(11, 7)\n",
      "(11, 7)\n",
      "(11, 7)\n",
      "(11, 7)\n",
      "(11, 7)\n",
      "(11, 7)\n",
      "(11, 7)\n",
      "(11, 7)\n",
      "(11, 7)\n",
      "(11, 7)\n",
      "(11, 7)\n",
      "(11, 7)\n",
      "(11, 7)\n",
      "(11, 7)\n",
      "(11, 7)\n",
      "(11, 7)\n",
      "(11, 7)\n",
      "(11, 7)\n",
      "(11, 7)\n",
      "(11, 7)\n",
      "(11, 7)\n",
      "(11, 7)\n",
      "(11, 7)\n",
      "(11, 7)\n",
      "(11, 7)\n",
      "(11, 7)\n",
      "(11, 7)\n",
      "(11, 7)\n",
      "(11, 7)\n",
      "(11, 7)\n",
      "(11, 7)\n",
      "(11, 7)\n",
      "(11, 7)\n",
      "(11, 7)\n",
      "(11, 7)\n",
      "(11, 7)\n",
      "(11, 7)\n",
      "(11, 7)\n",
      "(11, 7)\n",
      "(11, 7)\n",
      "(11, 7)\n",
      "(11, 7)\n",
      "(11, 7)\n",
      "(11, 7)\n",
      "(11, 7)\n",
      "(11, 7)\n",
      "(11, 7)\n",
      "(11, 7)\n",
      "(11, 7)\n",
      "(11, 7)\n",
      "(11, 7)\n",
      "(11, 7)\n",
      "(11, 7)\n",
      "(11, 7)\n",
      "(11, 7)\n",
      "(11, 7)\n",
      "(11, 7)\n",
      "(11, 7)\n",
      "(11, 7)\n",
      "(11, 7)\n",
      "(11, 7)\n",
      "(11, 7)\n",
      "(11, 7)\n",
      "(11, 7)\n",
      "(11, 7)\n",
      "(11, 7)\n",
      "(11, 7)\n",
      "(11, 7)\n",
      "(11, 7)\n",
      "(11, 7)\n",
      "(11, 7)\n",
      "(11, 7)\n",
      "(11, 7)\n",
      "(11, 7)\n",
      "(11, 7)\n",
      "(11, 7)\n",
      "(11, 7)\n",
      "(11, 7)\n",
      "(11, 7)\n",
      "(11, 7)\n",
      "(11, 7)\n",
      "(11, 7)\n",
      "(11, 7)\n",
      "(11, 7)\n",
      "(11, 7)\n",
      "(11, 7)\n",
      "(11, 7)\n",
      "(11, 7)\n",
      "(11, 7)\n",
      "(11, 7)\n",
      "(11, 7)\n",
      "(11, 7)\n",
      "(11, 7)\n",
      "(11, 7)\n",
      "(11, 7)\n",
      "(11, 7)\n",
      "(11, 7)\n",
      "(11, 7)\n",
      "(11, 7)\n",
      "(11, 7)\n",
      "(11, 7)\n",
      "(11, 7)\n",
      "(11, 7)\n",
      "(11, 7)\n",
      "(11, 7)\n",
      "(11, 7)\n",
      "(11, 7)\n",
      "(11, 7)\n",
      "(11, 7)\n",
      "(11, 7)\n",
      "(11, 7)\n",
      "(11, 7)\n",
      "(11, 7)\n",
      "(11, 7)\n",
      "(11, 7)\n",
      "(11, 7)\n",
      "(11, 7)\n",
      "(11, 7)\n",
      "(11, 7)\n",
      "(11, 7)\n",
      "(11, 7)\n",
      "(11, 7)\n",
      "(11, 7)\n",
      "(11, 7)\n",
      "(11, 7)\n",
      "(11, 7)\n",
      "(11, 7)\n",
      "(11, 7)\n",
      "(11, 7)\n",
      "(11, 7)\n",
      "(11, 7)\n",
      "(11, 7)\n",
      "(11, 7)\n",
      "(11, 7)\n",
      "(11, 7)\n",
      "(11, 7)\n",
      "(11, 7)\n",
      "(11, 7)\n",
      "(11, 7)\n",
      "(11, 7)\n",
      "(11, 7)\n",
      "(11, 7)\n",
      "(11, 7)\n",
      "(11, 7)\n",
      "(11, 7)\n",
      "(11, 7)\n",
      "(11, 7)\n",
      "(11, 7)\n",
      "(11, 7)\n",
      "(11, 7)\n",
      "(11, 7)\n",
      "(11, 7)\n",
      "(11, 7)\n",
      "(11, 7)\n",
      "(11, 7)\n",
      "(11, 7)\n",
      "(11, 7)\n",
      "(11, 7)\n",
      "(11, 7)\n",
      "(11, 7)\n",
      "(11, 7)\n",
      "(11, 7)\n",
      "(11, 7)\n",
      "(11, 7)\n",
      "(11, 7)\n",
      "(11, 7)\n",
      "(11, 7)\n",
      "(11, 7)\n",
      "(11, 7)\n",
      "(11, 7)\n",
      "(11, 7)\n",
      "(11, 7)\n",
      "(11, 7)\n",
      "(11, 7)\n",
      "(11, 7)\n",
      "(11, 7)\n",
      "(11, 7)\n",
      "(11, 7)\n",
      "(11, 7)\n",
      "(11, 7)\n",
      "(11, 7)\n",
      "(11, 7)\n",
      "(11, 7)\n",
      "(11, 7)\n",
      "(11, 7)\n",
      "(11, 7)\n",
      "(11, 7)\n",
      "(11, 7)\n",
      "(11, 7)\n",
      "(11, 7)\n",
      "(11, 7)\n",
      "(11, 7)\n",
      "(11, 7)\n",
      "(11, 7)\n",
      "(11, 7)\n",
      "(11, 7)\n",
      "(11, 7)\n",
      "(11, 7)\n",
      "(11, 7)\n",
      "(11, 7)\n",
      "(11, 7)\n",
      "(11, 7)\n",
      "(11, 7)\n",
      "(11, 7)\n",
      "(11, 7)\n",
      "(11, 7)\n",
      "(11, 7)\n",
      "(11, 7)\n",
      "(11, 7)\n",
      "(11, 7)\n",
      "(11, 7)\n",
      "(11, 7)\n",
      "(11, 7)\n",
      "(11, 7)\n",
      "(11, 7)\n",
      "(11, 7)\n",
      "(11, 7)\n",
      "(11, 7)\n",
      "(11, 7)\n",
      "(11, 7)\n",
      "(11, 7)\n",
      "(11, 7)\n",
      "(11, 7)\n",
      "(11, 7)\n",
      "(11, 7)\n",
      "(11, 7)\n",
      "(11, 7)\n",
      "(11, 7)\n",
      "(11, 7)\n",
      "(11, 7)\n",
      "(11, 7)\n",
      "(11, 7)\n",
      "(11, 7)\n",
      "(11, 7)\n",
      "(11, 7)\n",
      "(11, 7)\n",
      "(11, 7)\n",
      "(11, 7)\n",
      "(11, 7)\n",
      "(11, 7)\n",
      "(11, 7)\n",
      "(11, 7)\n",
      "(11, 7)\n",
      "(11, 7)\n",
      "(11, 7)\n",
      "(11, 7)\n",
      "(11, 7)\n",
      "(11, 7)\n",
      "(11, 7)\n",
      "(11, 7)\n",
      "(11, 7)\n",
      "(11, 7)\n",
      "(11, 7)\n",
      "(11, 7)\n",
      "(11, 7)\n",
      "(11, 7)\n",
      "(11, 7)\n",
      "(11, 7)\n",
      "(11, 7)\n",
      "(11, 7)\n",
      "(11, 7)\n",
      "(11, 7)\n",
      "(11, 7)\n",
      "(11, 7)\n",
      "(11, 7)\n",
      "(11, 7)\n",
      "(11, 7)\n",
      "(11, 7)\n",
      "(11, 7)\n",
      "(11, 7)\n",
      "(11, 7)\n",
      "(11, 7)\n",
      "(11, 7)\n",
      "(11, 7)\n",
      "(11, 7)\n",
      "(11, 7)\n",
      "(11, 7)\n",
      "(11, 7)\n",
      "(11, 7)\n",
      "(11, 7)\n",
      "(11, 7)\n",
      "(11, 7)\n",
      "(11, 7)\n",
      "(11, 7)\n",
      "(11, 7)\n",
      "(11, 7)\n",
      "(11, 7)\n",
      "(11, 7)\n",
      "(11, 7)\n",
      "(11, 7)\n",
      "(11, 7)\n",
      "(11, 7)\n",
      "(11, 7)\n",
      "(11, 7)\n",
      "(11, 7)\n",
      "(11, 7)\n"
     ]
    }
   ],
   "source": [
    "for i in range(0,len(data),8):\n",
    "    print(data[i].shape)"
   ]
  },
  {
   "cell_type": "code",
   "execution_count": 84,
   "metadata": {},
   "outputs": [],
   "source": [
    "data = np.array(data)\n",
    "target = np.array(target)"
   ]
  },
  {
   "cell_type": "code",
   "execution_count": 85,
   "metadata": {},
   "outputs": [
    {
     "data": {
      "text/plain": [
       "(4400, 11, 7)"
      ]
     },
     "execution_count": 85,
     "metadata": {},
     "output_type": "execute_result"
    }
   ],
   "source": [
    "data.shape"
   ]
  },
  {
   "cell_type": "code",
   "execution_count": 87,
   "metadata": {},
   "outputs": [],
   "source": [
    "x_data = data.reshape((4400,-1)) # 结构整形"
   ]
  },
  {
   "cell_type": "code",
   "execution_count": 104,
   "metadata": {},
   "outputs": [
    {
     "data": {
      "text/plain": [
       "(4400, 77)"
      ]
     },
     "execution_count": 104,
     "metadata": {},
     "output_type": "execute_result"
    }
   ],
   "source": [
    "x_data.shape"
   ]
  },
  {
   "cell_type": "code",
   "execution_count": 52,
   "metadata": {},
   "outputs": [
    {
     "data": {
      "text/plain": [
       "(96, 77)"
      ]
     },
     "execution_count": 52,
     "metadata": {},
     "output_type": "execute_result"
    }
   ],
   "source": [
    "x_data.shape"
   ]
  },
  {
   "cell_type": "code",
   "execution_count": 88,
   "metadata": {},
   "outputs": [],
   "source": [
    "knn = KNeighborsClassifier(20) #  "
   ]
  },
  {
   "cell_type": "code",
   "execution_count": 89,
   "metadata": {},
   "outputs": [
    {
     "data": {
      "text/plain": [
       "KNeighborsClassifier(n_neighbors=20)"
      ]
     },
     "execution_count": 89,
     "metadata": {},
     "output_type": "execute_result"
    }
   ],
   "source": [
    "knn.fit(x_data,target) # 训练"
   ]
  },
  {
   "cell_type": "code",
   "execution_count": 90,
   "metadata": {},
   "outputs": [],
   "source": [
    "y_ = knn.predict(x_data)"
   ]
  },
  {
   "cell_type": "code",
   "execution_count": 91,
   "metadata": {},
   "outputs": [
    {
     "data": {
      "text/plain": [
       "array([ 0,  0,  0, ..., 10, 10, 10])"
      ]
     },
     "execution_count": 91,
     "metadata": {},
     "output_type": "execute_result"
    }
   ],
   "source": [
    "y_"
   ]
  },
  {
   "cell_type": "code",
   "execution_count": 92,
   "metadata": {},
   "outputs": [
    {
     "data": {
      "text/plain": [
       "0.9968181818181818"
      ]
     },
     "execution_count": 92,
     "metadata": {},
     "output_type": "execute_result"
    }
   ],
   "source": [
    "knn.score(x_data,target)"
   ]
  },
  {
   "cell_type": "code",
   "execution_count": 93,
   "metadata": {},
   "outputs": [],
   "source": [
    "a = x_data[1]"
   ]
  },
  {
   "cell_type": "code",
   "execution_count": 94,
   "metadata": {},
   "outputs": [
    {
     "ename": "ValueError",
     "evalue": "Expected 2D array, got 1D array instead:\narray=[1. 0. 0. 0. 0. 0. 1. 0. 0. 1. 1. 1. 0. 0. 0. 0. 1. 1. 1. 1. 0. 0. 1. 1.\n 1. 1. 1. 0. 0. 1. 1. 1. 1. 1. 0. 0. 1. 1. 1. 1. 1. 0. 0. 1. 1. 1. 1. 1.\n 0. 0. 1. 1. 1. 1. 1. 0. 0. 0. 1. 1. 1. 0. 0. 0. 0. 1. 1. 1. 0. 0. 1. 0.\n 0. 0. 0. 0. 1.].\nReshape your data either using array.reshape(-1, 1) if your data has a single feature or array.reshape(1, -1) if it contains a single sample.",
     "output_type": "error",
     "traceback": [
      "\u001b[1;31m---------------------------------------------------------------------------\u001b[0m",
      "\u001b[1;31mValueError\u001b[0m                                Traceback (most recent call last)",
      "\u001b[1;32m<ipython-input-94-46f400de611c>\u001b[0m in \u001b[0;36m<module>\u001b[1;34m\u001b[0m\n\u001b[1;32m----> 1\u001b[1;33m \u001b[0my_\u001b[0m \u001b[1;33m=\u001b[0m \u001b[0mknn\u001b[0m\u001b[1;33m.\u001b[0m\u001b[0mpredict\u001b[0m\u001b[1;33m(\u001b[0m\u001b[0ma\u001b[0m\u001b[1;33m)\u001b[0m\u001b[1;33m\u001b[0m\u001b[1;33m\u001b[0m\u001b[0m\n\u001b[0m",
      "\u001b[1;32mc:\\programdata\\anaconda3\\envs\\scriptgather\\lib\\site-packages\\sklearn\\neighbors\\_classification.py\u001b[0m in \u001b[0;36mpredict\u001b[1;34m(self, X)\u001b[0m\n\u001b[0;32m    171\u001b[0m             \u001b[0mClass\u001b[0m \u001b[0mlabels\u001b[0m \u001b[1;32mfor\u001b[0m \u001b[0meach\u001b[0m \u001b[0mdata\u001b[0m \u001b[0msample\u001b[0m\u001b[1;33m.\u001b[0m\u001b[1;33m\u001b[0m\u001b[1;33m\u001b[0m\u001b[0m\n\u001b[0;32m    172\u001b[0m         \"\"\"\n\u001b[1;32m--> 173\u001b[1;33m         \u001b[0mX\u001b[0m \u001b[1;33m=\u001b[0m \u001b[0mcheck_array\u001b[0m\u001b[1;33m(\u001b[0m\u001b[0mX\u001b[0m\u001b[1;33m,\u001b[0m \u001b[0maccept_sparse\u001b[0m\u001b[1;33m=\u001b[0m\u001b[1;34m'csr'\u001b[0m\u001b[1;33m)\u001b[0m\u001b[1;33m\u001b[0m\u001b[1;33m\u001b[0m\u001b[0m\n\u001b[0m\u001b[0;32m    174\u001b[0m \u001b[1;33m\u001b[0m\u001b[0m\n\u001b[0;32m    175\u001b[0m         \u001b[0mneigh_dist\u001b[0m\u001b[1;33m,\u001b[0m \u001b[0mneigh_ind\u001b[0m \u001b[1;33m=\u001b[0m \u001b[0mself\u001b[0m\u001b[1;33m.\u001b[0m\u001b[0mkneighbors\u001b[0m\u001b[1;33m(\u001b[0m\u001b[0mX\u001b[0m\u001b[1;33m)\u001b[0m\u001b[1;33m\u001b[0m\u001b[1;33m\u001b[0m\u001b[0m\n",
      "\u001b[1;32mc:\\programdata\\anaconda3\\envs\\scriptgather\\lib\\site-packages\\sklearn\\utils\\validation.py\u001b[0m in \u001b[0;36minner_f\u001b[1;34m(*args, **kwargs)\u001b[0m\n\u001b[0;32m     70\u001b[0m                           FutureWarning)\n\u001b[0;32m     71\u001b[0m         \u001b[0mkwargs\u001b[0m\u001b[1;33m.\u001b[0m\u001b[0mupdate\u001b[0m\u001b[1;33m(\u001b[0m\u001b[1;33m{\u001b[0m\u001b[0mk\u001b[0m\u001b[1;33m:\u001b[0m \u001b[0marg\u001b[0m \u001b[1;32mfor\u001b[0m \u001b[0mk\u001b[0m\u001b[1;33m,\u001b[0m \u001b[0marg\u001b[0m \u001b[1;32min\u001b[0m \u001b[0mzip\u001b[0m\u001b[1;33m(\u001b[0m\u001b[0msig\u001b[0m\u001b[1;33m.\u001b[0m\u001b[0mparameters\u001b[0m\u001b[1;33m,\u001b[0m \u001b[0margs\u001b[0m\u001b[1;33m)\u001b[0m\u001b[1;33m}\u001b[0m\u001b[1;33m)\u001b[0m\u001b[1;33m\u001b[0m\u001b[1;33m\u001b[0m\u001b[0m\n\u001b[1;32m---> 72\u001b[1;33m         \u001b[1;32mreturn\u001b[0m \u001b[0mf\u001b[0m\u001b[1;33m(\u001b[0m\u001b[1;33m**\u001b[0m\u001b[0mkwargs\u001b[0m\u001b[1;33m)\u001b[0m\u001b[1;33m\u001b[0m\u001b[1;33m\u001b[0m\u001b[0m\n\u001b[0m\u001b[0;32m     73\u001b[0m     \u001b[1;32mreturn\u001b[0m \u001b[0minner_f\u001b[0m\u001b[1;33m\u001b[0m\u001b[1;33m\u001b[0m\u001b[0m\n\u001b[0;32m     74\u001b[0m \u001b[1;33m\u001b[0m\u001b[0m\n",
      "\u001b[1;32mc:\\programdata\\anaconda3\\envs\\scriptgather\\lib\\site-packages\\sklearn\\utils\\validation.py\u001b[0m in \u001b[0;36mcheck_array\u001b[1;34m(array, accept_sparse, accept_large_sparse, dtype, order, copy, force_all_finite, ensure_2d, allow_nd, ensure_min_samples, ensure_min_features, estimator)\u001b[0m\n\u001b[0;32m    621\u001b[0m                     \u001b[1;34m\"Reshape your data either using array.reshape(-1, 1) if \"\u001b[0m\u001b[1;33m\u001b[0m\u001b[1;33m\u001b[0m\u001b[0m\n\u001b[0;32m    622\u001b[0m                     \u001b[1;34m\"your data has a single feature or array.reshape(1, -1) \"\u001b[0m\u001b[1;33m\u001b[0m\u001b[1;33m\u001b[0m\u001b[0m\n\u001b[1;32m--> 623\u001b[1;33m                     \"if it contains a single sample.\".format(array))\n\u001b[0m\u001b[0;32m    624\u001b[0m \u001b[1;33m\u001b[0m\u001b[0m\n\u001b[0;32m    625\u001b[0m         \u001b[1;31m# in the future np.flexible dtypes will be handled like object dtypes\u001b[0m\u001b[1;33m\u001b[0m\u001b[1;33m\u001b[0m\u001b[1;33m\u001b[0m\u001b[0m\n",
      "\u001b[1;31mValueError\u001b[0m: Expected 2D array, got 1D array instead:\narray=[1. 0. 0. 0. 0. 0. 1. 0. 0. 1. 1. 1. 0. 0. 0. 0. 1. 1. 1. 1. 0. 0. 1. 1.\n 1. 1. 1. 0. 0. 1. 1. 1. 1. 1. 0. 0. 1. 1. 1. 1. 1. 0. 0. 1. 1. 1. 1. 1.\n 0. 0. 1. 1. 1. 1. 1. 0. 0. 0. 1. 1. 1. 0. 0. 0. 0. 1. 1. 1. 0. 0. 1. 0.\n 0. 0. 0. 0. 1.].\nReshape your data either using array.reshape(-1, 1) if your data has a single feature or array.reshape(1, -1) if it contains a single sample."
     ]
    }
   ],
   "source": [
    "y_ = knn.predict(a)"
   ]
  },
  {
   "cell_type": "code",
   "execution_count": 65,
   "metadata": {},
   "outputs": [
    {
     "data": {
      "text/plain": [
       "(77,)"
      ]
     },
     "execution_count": 65,
     "metadata": {},
     "output_type": "execute_result"
    }
   ],
   "source": [
    "a.shape"
   ]
  },
  {
   "cell_type": "code",
   "execution_count": 66,
   "metadata": {},
   "outputs": [
    {
     "data": {
      "text/plain": [
       "(96, 77)"
      ]
     },
     "execution_count": 66,
     "metadata": {},
     "output_type": "execute_result"
    }
   ],
   "source": [
    "x_data.shape"
   ]
  },
  {
   "cell_type": "code",
   "execution_count": 97,
   "metadata": {},
   "outputs": [],
   "source": [
    "X_train,x_test,y_train,y_test = train_test_split(x_data,target,test_size = 0.1)"
   ]
  },
  {
   "cell_type": "code",
   "execution_count": 98,
   "metadata": {},
   "outputs": [
    {
     "data": {
      "text/plain": [
       "array([2, 8, 0, ..., 0, 9, 0])"
      ]
     },
     "execution_count": 98,
     "metadata": {},
     "output_type": "execute_result"
    }
   ],
   "source": [
    "y_ = knn.predict(X_train)\n",
    "y_"
   ]
  },
  {
   "cell_type": "code",
   "execution_count": 99,
   "metadata": {},
   "outputs": [
    {
     "data": {
      "text/plain": [
       "array([2, 8, 0, ..., 0, 9, 0])"
      ]
     },
     "execution_count": 99,
     "metadata": {},
     "output_type": "execute_result"
    }
   ],
   "source": [
    "y_train"
   ]
  },
  {
   "cell_type": "code",
   "execution_count": 100,
   "metadata": {},
   "outputs": [
    {
     "data": {
      "text/plain": [
       "(4400, 11, 7)"
      ]
     },
     "execution_count": 100,
     "metadata": {},
     "output_type": "execute_result"
    }
   ],
   "source": [
    "data.shape"
   ]
  },
  {
   "cell_type": "code",
   "execution_count": 107,
   "metadata": {},
   "outputs": [
    {
     "data": {
      "text/plain": [
       "(3960, 77)"
      ]
     },
     "execution_count": 107,
     "metadata": {},
     "output_type": "execute_result"
    }
   ],
   "source": [
    "X_train.shape"
   ]
  },
  {
   "cell_type": "code",
   "execution_count": 103,
   "metadata": {},
   "outputs": [
    {
     "data": {
      "text/plain": [
       "int"
      ]
     },
     "execution_count": 103,
     "metadata": {},
     "output_type": "execute_result"
    }
   ],
   "source": [
    "type(data.shape[0])"
   ]
  },
  {
   "cell_type": "code",
   "execution_count": 106,
   "metadata": {},
   "outputs": [
    {
     "data": {
      "text/plain": [
       "(11, 7)"
      ]
     },
     "execution_count": 106,
     "metadata": {},
     "output_type": "execute_result"
    }
   ],
   "source": [
    "digits.shape# plt.imshow(digits,cmap = 'gray')"
   ]
  },
  {
   "cell_type": "code",
   "execution_count": 108,
   "metadata": {},
   "outputs": [
    {
     "data": {
      "text/plain": [
       "(numpy.ndarray, numpy.ndarray)"
      ]
     },
     "execution_count": 108,
     "metadata": {},
     "output_type": "execute_result"
    }
   ],
   "source": [
    "type(digits),type(X_train)"
   ]
  },
  {
   "cell_type": "code",
   "execution_count": 109,
   "metadata": {},
   "outputs": [],
   "source": [
    "bx = digits.reshape((1,-1)) # 结构整形"
   ]
  },
  {
   "cell_type": "code",
   "execution_count": 110,
   "metadata": {},
   "outputs": [
    {
     "data": {
      "text/plain": [
       "(1, 77)"
      ]
     },
     "execution_count": 110,
     "metadata": {},
     "output_type": "execute_result"
    }
   ],
   "source": [
    "bx.shape"
   ]
  },
  {
   "cell_type": "code",
   "execution_count": 111,
   "metadata": {},
   "outputs": [
    {
     "name": "stdout",
     "output_type": "stream",
     "text": [
      "[0]\n"
     ]
    }
   ],
   "source": [
    "bx_yc = knn.predict(bx)\n",
    "print(bx_yc)"
   ]
  },
  {
   "cell_type": "code",
   "execution_count": null,
   "metadata": {},
   "outputs": [],
   "source": []
  }
 ],
 "metadata": {
  "kernelspec": {
   "display_name": "Python 3",
   "language": "python",
   "name": "python3"
  },
  "language_info": {
   "codemirror_mode": {
    "name": "ipython",
    "version": 3
   },
   "file_extension": ".py",
   "mimetype": "text/x-python",
   "name": "python",
   "nbconvert_exporter": "python",
   "pygments_lexer": "ipython3",
   "version": "3.6.10"
  }
 },
 "nbformat": 4,
 "nbformat_minor": 4
}
